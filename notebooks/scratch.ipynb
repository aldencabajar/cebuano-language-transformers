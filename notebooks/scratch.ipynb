{
 "metadata": {
  "language_info": {
   "codemirror_mode": {
    "name": "ipython",
    "version": 3
   },
   "file_extension": ".py",
   "mimetype": "text/x-python",
   "name": "python",
   "nbconvert_exporter": "python",
   "pygments_lexer": "ipython3",
   "version": "3.8.5-final"
  },
  "orig_nbformat": 2,
  "kernelspec": {
   "name": "python3",
   "display_name": "Python 3",
   "language": "python"
  }
 },
 "nbformat": 4,
 "nbformat_minor": 2,
 "cells": [
  {
   "source": [
    "## Load some dependencies"
   ],
   "cell_type": "markdown",
   "metadata": {}
  },
  {
   "cell_type": "code",
   "execution_count": 4,
   "metadata": {},
   "outputs": [],
   "source": [
    "import json\n",
    "import os\n",
    "import sys\n"
   ]
  },
  {
   "source": [
    "## get parsed wiki data"
   ],
   "cell_type": "markdown",
   "metadata": {}
  },
  {
   "cell_type": "code",
   "execution_count": 10,
   "metadata": {},
   "outputs": [],
   "source": [
    "text = []\n",
    "for line in open('text/AA/wiki_00', 'r'):\n",
    "    text.append(json.loads(line))"
   ]
  },
  {
   "source": [
    "print first few lines"
   ],
   "cell_type": "markdown",
   "metadata": {}
  },
  {
   "cell_type": "code",
   "execution_count": 12,
   "metadata": {},
   "outputs": [
    {
     "output_type": "execute_result",
     "data": {
      "text/plain": [
       "[{'id': '960',\n",
       "  'url': 'https://ceb.wikipedia.org/wiki?curid=960',\n",
       "  'title': 'Leyte (pulo)',\n",
       "  'text': 'Leyte (pulo)\\n\\nAng Pulo sa Leyte usa sa mga dakong pulo sa Sidlakang Kabisay-an. Sa amihanan sa pulo maoy ang pulo-lalawigan sa Biliran. Sa sidlakan sa pulo maoy ang pulo sa Samar ug ang Golpo sa Leyte. Sa habagatan sa pulo sa Leyte maoy ang pulo sa Panaon ug gikan sa Leyte ug Panaon tabok sa Surigao Strait maoy ang pulo sa Mindanao. \\n\\nDuha (2) ang lalawigan sa pulo sa Leyte.\\n\\n\\nDuha (2) ang lumad nga pinulongan sa Leyte.\\n\\n\\nPulo ang Leyte Island sa Pilipinas. Nahimutang ni sa lalawigan sa Province of Leyte ug rehiyon sa Sidlakang Kabisay-an, sa habagatan-sidlakang bahin sa nasod, km sa habagatan-sidlakan sa Dakbayan sa Manila ang ulohan sa nasod. Naglangkob kin og ka kilometro kwadrado.\\n\\nAng yuta sa Leyte Island kay kabungtoran. Ang labing taas nga punto sa pulo mao ang metros ibabaw sa dagat nga lebel. Naglukop ni og 184.0 km gikan sa amihanan ngadto sa habagatan ug 110.7 km gikan sa sidlakan ngadto sa kasadpan.\\n\\nMga lungsod sa Leyte Island:\\n\\n\\nSa mosunod nga mga natural nga mga bahin makita sa Leyte Island:\\n\\n\\n\\n\\n\\n\\n\\n\\n\\n\\n\\n\\nHapit nalukop sa lasang ang palibot sa Leyte Island. Dunay mga ka tawo kada kilometro kwadrado sa palibot sa Leyte Island medyo hilabihan populasyon. Ang klima tropikal nga kasalupan. Ang kasarangang giiniton °C. Ang kinainitan nga bulan Abril, sa \\xa0°C, ug ang kinabugnawan Enero, sa \\xa0°C. Ang kasarangang pag-ulan milimetro matag tuig. Ang kinabasaan nga bulan Enero, sa milimetro nga ulan, ug ang kinaugahan Mayo, sa milimetro.\\n'},\n",
       " {'id': '965',\n",
       "  'url': 'https://ceb.wikipedia.org/wiki?curid=965',\n",
       "  'title': 'Sugbo',\n",
       "  'text': 'Sugbo\\n\\nAng Sugbo (Kinatsila: \"Cebú\") usa ka lalawigan sa Tunga-tungang Kabisay-an sa Pilipinas. Ang kapital ug kinadak-ang dakbayan sa lalawigan mao ang Dakbayan sa Sugbo. Ang lalawigan gitibuok sa mga pulo sa Sugbo, Mactan, Malapascua, Bantayan, Olango, ug Camotes.\\n\\nNahimutang kini sa tunga-tungang bahin sa nasod - sidlakan sa pulo sa Negros, sa kasadpan sa pulo sa Leyte ug amihanang-kasadpan sa pulo sa Bohol (9°25\\'N-11°15\\'N latitud ug 123°13\\'E-124°5\\'E longitud).\\n\\nAng kapital nga Dakbayan sa Sugbo, ang nahiunang dakbayan sa Pilipinas, bahin sa Metropolitan nga Sugbo apil ang unom nga tapad nga mga dakbayan ug unom ka mga lungsod. Ang tugpahanan sa lalawigan mao ang Mactan-Cebu International Airport sa pulo sa Mactan, ang ikaduhang labing importante nga tugpahanan sa nasod. 85% sa mga \"shipping line\" sa Pilipinas nagbase sa Sugbo. Ang lalawigan may unom ka mga pantalan nga nasyonal ug usa ka pantalan nga internasyonal, ang Cebu International Port.\\n\\nAng Sugbo usa sa mga labing ugmad nga lalawigan sa nasod. Kini ang sentro sa komersyo, edukasyon ug industriya sa sentral ug habagatang dapit sa kapupod-an. May mga \"five-star\" hotel, casino, puting kabaybayonan, \"golf course\", \"convention center\", ug mga \"shopping mall\". Ang Condenast Travellers Magazine sa UK mipadayag sa Sugbo isip ikapito nga labing nindot nga pulo sa Asya-Kadagatang Indyan sa tuig 2007, ang nag-inusarang pulo sa Pilipinas nga napasidunggan sa maong magasin sukad pa sa tuig 2004.\\n\\nMay tulo ka kasugiran kabahin sa gigikanan sa ngalang Sugbo:\\n\\nAng mga tawo sa Sugbo gitawag nga mga \"Sugboanon\". Sagad kanila naggikan sa mga tawong Awstronesyano samtang may uban usab nga may kagikang Espanyol ug Intsek. Ang mga Katsila ug Intsek may dakong papel sa ekonomiya ug politika sa Sugbo. Daghang mga aspeto sa kulturang Katsila ang makita pa gihapon sa Sugbo. Tungod usab sa taudtaod nga pagkaubos sa mga Amerikano, ang kulturang Amerikano may dakong papel sa kontemporaryong Sugbo. Ang pinulongang Ingles mao ang pinulongan sa pagtudlo sa mga pribadong tulunghaan.\\n\\nAng katitikan sa Sugbo, sa sinulat niini nga porma ug sa pinulongang Sinugboanon, nagsugod sa sayong bahin sa okupasyon sa mga Amerikano. Ang mga higante niining panahona naglakip nila ni Vicente Sotto ug Vicente Rama. Sa kasamtangan ang gidaghanon sa mga magsusulat ug magbabasa sa Sinugboanon nagkagamay, apan nagpabiling buhi ang Bisaya Magasin, ang nag-unang institusyon sa katitikang Sugboanon.\\n\\nAng lumad nga pinulongan sa Sugbo mao ang Sinugboanon. Kining maong pinulongan ginatabi usab sa dakong bahin sa Mindanao ug sa mga silingang pulo sa Bohol, Siquijor, kasadpang Leyte, Negros Oriental, ug mga bahin sa Bukidnon, Agusan, Surigao, Davao, Cotabato, ug Zamboanga del Sur. May mga kalainan sa Sinugboanon niining mga dapita apan ginagmay lamang kaayo. Kini ginatabi sa dili mokubos baynte milyones (20 M) ka mga tawo.\\n\\nAng mga Sugboanon kahibalo usab motabi sa Tinagalog, ug sa ubang Binisayang pinulongan sama sa Hiligaynon ug Winaray.\\n\\nSa mga pulo sa Camotes, \"Porohanon\" ang ginatabi. Ang labing dakong kalainan niini sa Sinugboanon mao ang paggamit sa \"z\" sa tingog nga \"y\" sa Sinugboanon. Pananglitan, ang \"maayo kaayo\" sa Sinugboanon \"maazo kaazo\" sa Porohanon.\\n\\nSa Bantayan, may lahing pinulongan (\"Bantayan Visayan\" sa Iningles) ang ginatabi. Kini mas duol sa Hiligaynon kaysa Sinugboanon.\\n\\nAng Kinatsila gigamit sa mga mestiso nga komunidad. Ang Iningles ang gigamit sa edukasyon, medya, komersiyo, ug kagamhanan. Ang Inintsek gigamit sa mga komunidad sa mga Intsek.\\n\\nMayoriya sa mga Sugboanon mga Romano Katoliko. May mga minoryang Kristiyanong mga simbahan sama sa Asembliya sa Diyos, Iglesia ni Cristo, Saksi ni Jehova, Mormon, mga Muslim, Taoismo ug uban pa.\\n\\nAng unang patron sa Sugbo mao ang Santo Niño sa Sugbo nga makita sa labing karaang simbahan sa nasod, ang Basilica Minore del Santo Niño. Tungod sa kanonikal nga kalagdaan sa paggamit og santos nga patron imbes nga si Kristo mismo, ang patron sa Sugbo mao na ang Birhen sa Guadalupe.\\n\\nSumala sa sensus niadtong tuig 2000, ang Dakbayan sa Sugbo may 718,821 ka mga molupyo. Kini mas daghan baleg 56,522 ka tawo kompara sa 1995 nga Sensus sa Populasyon (POPCEN). Ang \"Metro Cebu\" ug ang lalawigan sa Sugbo gibanabanang may 2.5 milyones ka mga molupyo.\\n\\nAng Sugbo nahimutang taliwala sa 9°25\\' ug 11°15\\' habagatang latitud ug taliwala sa 123°13\\' ug 124°5\\' sidlakang longitud sa sentral nga dapit sa kapupud-ang Pilipinhon. Gikan sa Manila, 365 milyas pahabagatan ang Sugbo.\\n\\nNag-atubang sa pulo sa Leyte ang amihanang-sidlakang nawong sa lalawigan; sa habagatang-sidlakang bahin niini makita ang lalawigan sa Bohol. Sa kasadpang direksiyon makit-an ang pulo sa Negros. Taliwala sa Sugbo ug Bohol nahimutang ang Cebu Strait. Taliwala sa Sugbo ug Negros nahimutang ang Tañon Strait.\\n\\nAng lalawigan mismo naglakip sa mga pulo sa Sugbo, Mactan, Malapascua (Logon, Daanbantayan, Bantayan, Olango, ug Camotes.\\n\\nAng Sugbo may 47 ka mga lungsod ug unom ka mga dakbayan.\\n\\nSa wala pa moabot ang mga Kastila, ang Gingharian sa Sugbo usa na ka poste sa negosyo, ug may ruta sa pamaligya ngadto padulong sa Malasya og Indonesia.\\n\\nMiabot si Fernando de Magallanes sa Sugbo sa sayong bahin sa Abril, tuig 1521. Iyang gihigala si Raha Humabon ug gikombensir kini sa pag-ila sa hari sa Espanya isip labawng hari kaniya. Gibunyagan si Humabon ug ang iyang asawa isip Haring Carlos ug Raynang Juana. Ang Santo Niño gihatag sa hari ug rayna isip simbolo sa kalinaw taliwala sa mga Kastila ug sa mga Sugboanon. Sa Abril 14, 1521, gitanom ni Magallanes ang dakong krus nga kahoy nga simbolo sa pagka-Katoliko sa mga Sugboanon.\\n\\nSa Abril 27, nahitabo ang Panagsangka sa Mactan diin napatay si Magallanes ni Datu Lapu-Lapu. Matod ni Antonio Pigafetta, ang lawas ni Magallanes wala gayod makuha nila pagbalik bisan kon misuway sila paghaylo sa mga lumad og bugti niini nga mga lamas ug alahas.\\n\\nKap-atag upat ka tuig human ang pagtaak ni Magallanes sa Sugbo, miabot ang kongkistador Miguel Lopez de Legazpi. Ilang gibombardiyo ang barangay ni Rajah Tupas. Kini ilang gipatindog pagbalik human mailog ug ginganlang \"Villa del Santísimo Nombre de Jesús\" (Ang Barangay sa Labing Balaang Ngalan ni Hesus). Sa tuig 1569 kini ang unang Kastilang \"settlement\" sa Pilipinas.\\n\\nSa Agosto 14, 1571, ang Santísimo Nombre nahimong usa ka dyosesis. Si Legazpi mibiya sa Sugbo ug mibalhin una ngadto sa Iloilo ug dayon sa Manila.\\n\\nPanahon sa Ikaduhang Gubat Kalibotanon ang Sugbo nahimong importanteng base sa mga Hapon. Ang pangita sa sundalo sa Hinapon ni kuha sa Sugbo sa tuig 1942, \\nSa panahon nga libersayon sa Sugbo way labanan sa uban nga sa nasud sa mga sundalo sa Pilipinhon ug Amerikanhon uban sa gerilyang Sugboanon nga pagsupak sa mga katiguman sa Hinapon way kapildehang nga pagkahuman sa gubat sulud sa tuig 1945.\\n\\nAng mga tuig human sa Ikaduhang Gubat nakakita sa pagsolidipikar sa kontrol sa pipila ka mga gamhanang pamilya sa lain-laing dapit sa Sugbo.\\n\\nSa sayong bahin sa dekada 90 ang Sugbo nahiagom sa katalagman sa Bagyong Ruping. Kini miresulta sa pagkatibuok sa ideya sa Republika sa Sugbo dihang ang nasodnong kagamhanan sa Manila wala makatabang sa lalawigan tungod sa pagpakapuliki niini sa mga nanginahanglan usab og tabang gikan sa Luzon.\\n\\nAng Cebu Provincial History Project naglaraw sa pagsulat og 55 ka libro, nga nagtuki sa mga kasaysayan sa kalungsoran ug mga dakbayan sa tibuok probinsiya sa Sugbo. Ubos sa pagdasig ni Gobernadora Gwendolyn Garcia ug inabagan sa hunta probinsiyal. Usa kini ka makasaysayanon nga gimbuhaton, kay wala pa may laing susama niini sa tibuok nasod.\\n\\n\\n'}]"
      ]
     },
     "metadata": {},
     "execution_count": 12
    }
   ],
   "source": [
    "text[:2]"
   ]
  },
  {
   "cell_type": "code",
   "execution_count": null,
   "metadata": {},
   "outputs": [],
   "source": []
  }
 ]
}