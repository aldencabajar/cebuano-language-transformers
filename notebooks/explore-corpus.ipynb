{
 "metadata": {
  "language_info": {
   "codemirror_mode": {
    "name": "ipython",
    "version": 3
   },
   "file_extension": ".py",
   "mimetype": "text/x-python",
   "name": "python",
   "nbconvert_exporter": "python",
   "pygments_lexer": "ipython3",
   "version": "3.8.5-final"
  },
  "orig_nbformat": 2,
  "kernelspec": {
   "name": "python3",
   "display_name": "Python 3",
   "language": "python"
  }
 },
 "nbformat": 4,
 "nbformat_minor": 2,
 "cells": [
  {
   "source": [
    "# Publicly-available Cebuano Corpus (An Exploration)"
   ],
   "cell_type": "markdown",
   "metadata": {}
  },
  {
   "cell_type": "code",
   "execution_count": 1,
   "metadata": {},
   "outputs": [],
   "source": [
    "import json\n",
    "import os\n",
    "import sys\n",
    "import pandas as pd\n",
    "import matplotlib"
   ]
  },
  {
   "source": [
    "## Wikipedia Corpus"
   ],
   "cell_type": "markdown",
   "metadata": {}
  },
  {
   "cell_type": "code",
   "execution_count": 2,
   "metadata": {},
   "outputs": [],
   "source": [
    "text = []\n",
    "for line in open('../text/AA/wiki_00', 'r'):\n",
    "    text.append(json.loads(line))   "
   ]
  },
  {
   "source": [
    "print first few lines"
   ],
   "cell_type": "markdown",
   "metadata": {}
  },
  {
   "cell_type": "code",
   "execution_count": 3,
   "metadata": {},
   "outputs": [
    {
     "output_type": "execute_result",
     "data": {
      "text/plain": [
       "[{'id': '965',\n",
       "  'url': 'https://ceb.wikipedia.org/wiki?curid=965',\n",
       "  'title': 'Sugbo',\n",
       "  'text': 'Sugbo\\n\\nAng Sugbo (Kinatsila: \"Cebú\") usa ka lalawigan sa Tunga-tungang Kabisay-an sa Pilipinas. Ang kapital ug kinadak-ang dakbayan sa lalawigan mao ang Dakbayan sa Sugbo. Ang lalawigan gitibuok sa mga pulo sa Sugbo, Mactan, Malapascua, Bantayan, Olango, ug Camotes.\\n\\nNahimutang kini sa tunga-tungang bahin sa nasod - sidlakan sa pulo sa Negros, sa kasadpan sa pulo sa Leyte ug amihanang-kasadpan sa pulo sa Bohol (9°25\\'N-11°15\\'N latitud ug 123°13\\'E-124°5\\'E longitud).\\n\\nAng kapital nga Dakbayan sa Sugbo, ang nahiunang dakbayan sa Pilipinas, bahin sa Metropolitan nga Sugbo apil ang unom nga tapad nga mga dakbayan ug unom ka mga lungsod. Ang tugpahanan sa lalawigan mao ang Mactan-Cebu International Airport sa pulo sa Mactan, ang ikaduhang labing importante nga tugpahanan sa nasod. 85% sa mga \"shipping line\" sa Pilipinas nagbase sa Sugbo. Ang lalawigan may unom ka mga pantalan nga nasyonal ug usa ka pantalan nga internasyonal, ang Cebu International Port.\\n\\nAng Sugbo usa sa mga labing ugmad nga lalawigan sa nasod. Kini ang sentro sa komersyo, edukasyon ug industriya sa sentral ug habagatang dapit sa kapupod-an. May mga \"five-star\" hotel, casino, puting kabaybayonan, \"golf course\", \"convention center\", ug mga \"shopping mall\". Ang Condenast Travellers Magazine sa UK mipadayag sa Sugbo isip ikapito nga labing nindot nga pulo sa Asya-Kadagatang Indyan sa tuig 2007, ang nag-inusarang pulo sa Pilipinas nga napasidunggan sa maong magasin sukad pa sa tuig 2004.\\n\\nMay tulo ka kasugiran kabahin sa gigikanan sa ngalang Sugbo:\\n\\nAng mga tawo sa Sugbo gitawag nga mga \"Sugboanon\". Sagad kanila naggikan sa mga tawong Awstronesyano samtang may uban usab nga may kagikang Espanyol ug Intsek. Ang mga Katsila ug Intsek may dakong papel sa ekonomiya ug politika sa Sugbo. Daghang mga aspeto sa kulturang Katsila ang makita pa gihapon sa Sugbo. Tungod usab sa taudtaod nga pagkaubos sa mga Amerikano, ang kulturang Amerikano may dakong papel sa kontemporaryong Sugbo. Ang pinulongang Ingles mao ang pinulongan sa pagtudlo sa mga pribadong tulunghaan.\\n\\nAng katitikan sa Sugbo, sa sinulat niini nga porma ug sa pinulongang Sinugboanon, nagsugod sa sayong bahin sa okupasyon sa mga Amerikano. Ang mga higante niining panahona naglakip nila ni Vicente Sotto ug Vicente Rama. Sa kasamtangan ang gidaghanon sa mga magsusulat ug magbabasa sa Sinugboanon nagkagamay, apan nagpabiling buhi ang Bisaya Magasin, ang nag-unang institusyon sa katitikang Sugboanon.\\n\\nAng lumad nga pinulongan sa Sugbo mao ang Sinugboanon. Kining maong pinulongan ginatabi usab sa dakong bahin sa Mindanao ug sa mga silingang pulo sa Bohol, Siquijor, kasadpang Leyte, Negros Oriental, ug mga bahin sa Bukidnon, Agusan, Surigao, Davao, Cotabato, ug Zamboanga del Sur. May mga kalainan sa Sinugboanon niining mga dapita apan ginagmay lamang kaayo. Kini ginatabi sa dili mokubos baynte milyones (20 M) ka mga tawo.\\n\\nAng mga Sugboanon kahibalo usab motabi sa Tinagalog, ug sa ubang Binisayang pinulongan sama sa Hiligaynon ug Winaray.\\n\\nSa mga pulo sa Camotes, \"Porohanon\" ang ginatabi. Ang labing dakong kalainan niini sa Sinugboanon mao ang paggamit sa \"z\" sa tingog nga \"y\" sa Sinugboanon. Pananglitan, ang \"maayo kaayo\" sa Sinugboanon \"maazo kaazo\" sa Porohanon.\\n\\nSa Bantayan, may lahing pinulongan (\"Bantayan Visayan\" sa Iningles) ang ginatabi. Kini mas duol sa Hiligaynon kaysa Sinugboanon.\\n\\nAng Kinatsila gigamit sa mga mestiso nga komunidad. Ang Iningles ang gigamit sa edukasyon, medya, komersiyo, ug kagamhanan. Ang Inintsek gigamit sa mga komunidad sa mga Intsek.\\n\\nMayoriya sa mga Sugboanon mga Romano Katoliko. May mga minoryang Kristiyanong mga simbahan sama sa Asembliya sa Diyos, Iglesia ni Cristo, Saksi ni Jehova, Mormon, mga Muslim, Taoismo ug uban pa.\\n\\nAng unang patron sa Sugbo mao ang Santo Niño sa Sugbo nga makita sa labing karaang simbahan sa nasod, ang Basilica Minore del Santo Niño. Tungod sa kanonikal nga kalagdaan sa paggamit og santos nga patron imbes nga si Kristo mismo, ang patron sa Sugbo mao na ang Birhen sa Guadalupe.\\n\\nSumala sa sensus niadtong tuig 2000, ang Dakbayan sa Sugbo may 718,821 ka mga molupyo. Kini mas daghan baleg 56,522 ka tawo kompara sa 1995 nga Sensus sa Populasyon (POPCEN). Ang \"Metro Cebu\" ug ang lalawigan sa Sugbo gibanabanang may 2.5 milyones ka mga molupyo.\\n\\nAng Sugbo nahimutang taliwala sa 9°25\\' ug 11°15\\' habagatang latitud ug taliwala sa 123°13\\' ug 124°5\\' sidlakang longitud sa sentral nga dapit sa kapupud-ang Pilipinhon. Gikan sa Manila, 365 milyas pahabagatan ang Sugbo.\\n\\nNag-atubang sa pulo sa Leyte ang amihanang-sidlakang nawong sa lalawigan; sa habagatang-sidlakang bahin niini makita ang lalawigan sa Bohol. Sa kasadpang direksiyon makit-an ang pulo sa Negros. Taliwala sa Sugbo ug Bohol nahimutang ang Cebu Strait. Taliwala sa Sugbo ug Negros nahimutang ang Tañon Strait.\\n\\nAng lalawigan mismo naglakip sa mga pulo sa Sugbo, Mactan, Malapascua (Logon, Daanbantayan, Bantayan, Olango, ug Camotes.\\n\\nAng Sugbo may 47 ka mga lungsod ug unom ka mga dakbayan.\\n\\nSa wala pa moabot ang mga Kastila, ang Gingharian sa Sugbo usa na ka poste sa negosyo, ug may ruta sa pamaligya ngadto padulong sa Malasya og Indonesia.\\n\\nMiabot si Fernando de Magallanes sa Sugbo sa sayong bahin sa Abril, tuig 1521. Iyang gihigala si Raha Humabon ug gikombensir kini sa pag-ila sa hari sa Espanya isip labawng hari kaniya. Gibunyagan si Humabon ug ang iyang asawa isip Haring Carlos ug Raynang Juana. Ang Santo Niño gihatag sa hari ug rayna isip simbolo sa kalinaw taliwala sa mga Kastila ug sa mga Sugboanon. Sa Abril 14, 1521, gitanom ni Magallanes ang dakong krus nga kahoy nga simbolo sa pagka-Katoliko sa mga Sugboanon.\\n\\nSa Abril 27, nahitabo ang Panagsangka sa Mactan diin napatay si Magallanes ni Datu Lapu-Lapu. Matod ni Antonio Pigafetta, ang lawas ni Magallanes wala gayod makuha nila pagbalik bisan kon misuway sila paghaylo sa mga lumad og bugti niini nga mga lamas ug alahas.\\n\\nKap-atag upat ka tuig human ang pagtaak ni Magallanes sa Sugbo, miabot ang kongkistador Miguel Lopez de Legazpi. Ilang gibombardiyo ang barangay ni Rajah Tupas. Kini ilang gipatindog pagbalik human mailog ug ginganlang \"Villa del Santísimo Nombre de Jesús\" (Ang Barangay sa Labing Balaang Ngalan ni Hesus). Sa tuig 1569 kini ang unang Kastilang \"settlement\" sa Pilipinas.\\n\\nSa Agosto 14, 1571, ang Santísimo Nombre nahimong usa ka dyosesis. Si Legazpi mibiya sa Sugbo ug mibalhin una ngadto sa Iloilo ug dayon sa Manila.\\n\\nPanahon sa Ikaduhang Gubat Kalibotanon ang Sugbo nahimong importanteng base sa mga Hapon. Ang pangita sa sundalo sa Hinapon ni kuha sa Sugbo sa tuig 1942, \\nSa panahon nga libersayon sa Sugbo way labanan sa uban nga sa nasud sa mga sundalo sa Pilipinhon ug Amerikanhon uban sa gerilyang Sugboanon nga pagsupak sa mga katiguman sa Hinapon way kapildehang nga pagkahuman sa gubat sulud sa tuig 1945.\\n\\nAng mga tuig human sa Ikaduhang Gubat nakakita sa pagsolidipikar sa kontrol sa pipila ka mga gamhanang pamilya sa lain-laing dapit sa Sugbo.\\n\\nSa sayong bahin sa dekada 90 ang Sugbo nahiagom sa katalagman sa Bagyong Ruping. Kini miresulta sa pagkatibuok sa ideya sa Republika sa Sugbo dihang ang nasodnong kagamhanan sa Manila wala makatabang sa lalawigan tungod sa pagpakapuliki niini sa mga nanginahanglan usab og tabang gikan sa Luzon.\\n\\nAng Cebu Provincial History Project naglaraw sa pagsulat og 55 ka libro, nga nagtuki sa mga kasaysayan sa kalungsoran ug mga dakbayan sa tibuok probinsiya sa Sugbo. Ubos sa pagdasig ni Gobernadora Gwendolyn Garcia ug inabagan sa hunta probinsiyal. Usa kini ka makasaysayanon nga gimbuhaton, kay wala pa may laing susama niini sa tibuok nasod.\\n\\n\\n'},\n",
       " {'id': '967',\n",
       "  'url': 'https://ceb.wikipedia.org/wiki?curid=967',\n",
       "  'title': 'Kabisay-an',\n",
       "  'text': 'Kabisay-an\\n\\nAng Kabisay-an (Kinatsila: \"Bisayas\"; Ininggles: \"Visayas\") usa sa tulo ka dagkong mga pundok sa mga pulo sa Pilipinas (ang laing duha mao ang Luzon ug Mindanao). Kini nahimutang sa tunga-tungang bahin sa maong kapupud-an. Ang mga tawo sa Kabisay-an gitawag nga Bisaya, ug ang ilang mga pinulongan ilang gitawag Binisaya.\\n\\nAng dagkong mga pulo sa Kabisay-an mao kining mosunod: Bohol, Leyte, Negros, Palawan, Panay, Samar, ug Sugbo. Ang mga pulo sa Masbate ug Romblon maingon usab nga apil sa Kabisay-an. Ang tulo nga labing dagko nga dakbayan mao ang Sugbo, Bacolod, ug Iloilo. Sinugboanon, Hiligaynon ug Winaray ang nangunang mga pinulongan sa Kabisay-an.\\n\\nHangtod karon, misteryoso ang kasaysayan nga prehispaniko sa Kabisay-an. Dunay mga leyenda nga nag-istorya sa kasaysayan sa mga Bisaya, apan daghan pa ang nagduda sa pagkatinuod niini. Usa sa mga leyenda nag-istorya sa usa ka hari, si Kalantiaw, nga mihimog kodigo sa pamalaod. Ang uban miistorya nga gikan sa Borneo ang mga Bisaya. Unang namensyon ang Kabisay-an niadtong siglo 12, kanus-a gihunahuna nga kabahin ang kapupud-an sa Śrīvijaya.\\n\\nAng mga Bisaya gihunahuna nga dunay diplomatiko nga relasyon sa mga gingharian sa Java ug Malay tungod kay kamao makigsulti ang mga Sugboanon kang Enrique gamit ang pinulongang Malay sa dihang miabot si Fernando de Magallanes niadtong 1521.\\n\\nHuman sa ekspedisyon ni Magallanes, nagkainteres ang mga Katsila sa kapupud-an ug gipadala si Ruy López de Villalobos ug si Miguel López de Legazpi niadtong 1543 ug 1565, aron kini sakopon. Sa sinugdan, misugot ang mga Bisaya sa kolonisasyon, ug kadaghanan mibalhin og pagtuo ngadto sa Kristiyanismo, diin gidawat si Santo Niño isip santo patron. \\n\\nSa pag-agi sa katuigan isip kolonya sa Espanya ang kapupud-an, daghang mga rebolusyon ang nanghitabo, usa na niini ang kang Francisco Dagohoy sa Bohol. Gipang-atake usab sa mga Moros ang mga dapli\\'g-dagat nga mga lungsod sa Kabisay-an niining panahona. \\n\\nAktibo ang mga Bisaya sa panahon sa rebolusyong Pilipino. Ang pulo sa Negros mipasiugda sa ilang kaugalingong rebolusyon.\\n\\nHuman sa kagawasan sa Pilipinas, aktibo ang mga Bisaya sa politikang nasyonal, dunay mga presidente sa Pilipinas nga gikan sa Kabisay-an.\\n\\nNiadtong Mayo 23, 2005, ang Palawan gibalhin sa Rehiyon VI (Kasadpang Kabisay-an) sumala sa Executive Order 429. Ang DILG mianunsyar niadtong Hunyo 2005 nga nakompleto na ang pagbalhin. \\napan kadaghanan sa mga Palaweño mireklamo sa kakulang sa konsultasyon, mao nga gipagawas ang Administrative Order No. 129 niadtong Agosto 19, 2005. Napending ang EO 429 hangtod nga maimplementar ang tarong nga pagbalhin sa Palawan gikan sa rehiyon sa Habagatang Katagalogan ngadto sa Kasadpang Kabisay-an.\\n\\nMay mga leyenda nga gipundok sa librong Maragtas nga naghisgot sa sugilanon sa napulo ka mga datu nga mieskapo gikan sa kabangis ni Datu Makatunaw sa Borneo ngadto sa pulo sa Panay. Kining maong mga tawhana ang gituhoang gigikanan sa tanang mga Bisaya. Ang ilang pag-abot giselebrar sa kapiyestahan sa Ati-atihan sa Kalibo, Aklan. Kining maong leyenda gipundok ni Pedro Alcantara Monteclaro niadtong tuig 1907.\\n\\nDaghan ang mga pinulongang \"Binisaya\". Dili kompleto kining maong talaan.\\n\\n\\nKining mga pinulongan lumad sa mga rehiyon nga gawas sa Kabisay-an apan mga Binisayang pinulongan usab.\\n\\n\"* Ang pinulongang Tausug giklase nga Binisayang pinulongan sa mga linggwista, apan ang mga Tausug dili motawag sa ilang kaugalingon nga mga Bisaya.\"\\n\\nAng Kabisay-an nabahin ngadto sa 16 ka lalawigan sa tulo ka rehiyon.\\n\\n\\n\\n\\n'}]"
      ]
     },
     "metadata": {},
     "execution_count": 3
    }
   ],
   "source": [
    "text[:2]"
   ]
  },
  {
   "source": [
    "df = pd.DataFrame(text)\n",
    "df['length'] = df['text'].apply(len)"
   ],
   "cell_type": "code",
   "metadata": {},
   "execution_count": 11,
   "outputs": []
  },
  {
   "cell_type": "code",
   "execution_count": 14,
   "metadata": {},
   "outputs": [
    {
     "output_type": "stream",
     "name": "stdout",
     "text": [
      "Total current article count is 594\nTotal character length is 1961877\n"
     ]
    }
   ],
   "source": [
    "print('Total current article count is', df.shape[0])\n",
    "print('Total character length is', df.length.sum())"
   ]
  },
  {
   "cell_type": "code",
   "execution_count": 13,
   "metadata": {},
   "outputs": [
    {
     "output_type": "execute_result",
     "data": {
      "text/plain": [
       "count      594.000000\n",
       "mean      3302.823232\n",
       "std       4451.175106\n",
       "min       1208.000000\n",
       "25%       1560.500000\n",
       "50%       2205.500000\n",
       "75%       3191.250000\n",
       "max      60068.000000\n",
       "Name: length, dtype: float64"
      ]
     },
     "metadata": {},
     "execution_count": 13
    }
   ],
   "source": [
    "df['length'].describe()"
   ]
  },
  {
   "source": [
    "## Oscar Cebuano Corpus"
   ],
   "cell_type": "markdown",
   "metadata": {}
  },
  {
   "cell_type": "code",
   "execution_count": 66,
   "metadata": {},
   "outputs": [],
   "source": [
    "lines_oscar = []\n",
    "with open('../shuff-dedup/ceb/ceb_dedup.txt.gz', 'rb') as f:\n",
    "    for line in f:\n",
    "        lines_oscar.append(line.decode('utf-8'))\n"
   ]
  },
  {
   "cell_type": "code",
   "execution_count": 7,
   "metadata": {},
   "outputs": [
    {
     "output_type": "execute_result",
     "data": {
      "text/plain": [
       "'The OSCAR corpus contains about 75220 lines of text.'"
      ]
     },
     "metadata": {},
     "execution_count": 7
    }
   ],
   "source": [
    "f'The OSCAR corpus contains about {len(lines_oscar)} lines of text.' "
   ]
  },
  {
   "cell_type": "code",
   "execution_count": 67,
   "metadata": {},
   "outputs": [
    {
     "output_type": "execute_result",
     "data": {
      "text/plain": [
       "['matamwa lg ko mayung gabe sa tanan....balikbayan derby na megs, 5cock daw 3 & 4 na bla......d lg ko kasigurado\\n',\n",
       " 'Maayong kaagahon liwat diri sa payag ICCC...nakaluy-an sa guihapon ang aton entry nga maka puntos sa ikaduha nga sulatada....goodluck sa madason pa guid nga mga sulatadas.\\n',\n",
       " 'tani ari si pre idol toto jericp SR, para siya ang mangkoton ta. hehehe. bal an ya na kung sin o ang champion. hehehe\\n',\n",
       " 'Kapital sa munisipyo ang Āmol (Pinulongang Persiyano: آمل) sa Iran.[1] Nahimutang ni sa lalawigan sa Ostān-e Māzandarān, sa amihanang bahin sa nasod, 120 km sa amihanan-sidlakan sa Tehrān ang ulohan sa nasod. 96 metros ibabaw sa dagat kahaboga ang nahimutangan sa Āmol[1], ug adunay 199,382 ka molupyo.[1]\\n',\n",
       " '↑ Kalkulado gikan sa pakigbingkil sa tanan nga gitas-on data (DEM 3\") gikan sa Viewfinder Panoramas, sa sulod sa 10 ka kilometro radius.[2] Ang bug-os nga algoritmo anaa dinhi.\\n',\n",
       " 'Ang yuta palibot sa Āmol kay kasagaran patag, apan sa habagatan nga kini mao ang kabungtoran. Ang yuta palibot sa Āmol nga tinakpan sa ubos sa amihanan.[saysay 1] Ang kinahabogang dapit sa palibot dunay gihabogon nga 1,508 ka metro ug 19.7 km sa habagatan sa Āmol.[saysay 2] Dunay mga 149 ka tawo kada kilometro kwadrado sa palibot sa Āmol medyo hilabihan populasyon.[3] Āmol ang kinadak-ang lungsod sa maong dapit. Hapit nalukop sa kaumahan ang palibot sa Āmol.[4] Sa rehiyon palibot sa Āmol, mga lasang talagsaon komon.[saysay 3]\\n',\n",
       " 'Ang klima kasarangan. Ang kasarangang giiniton 17 °C. Ang kinainitan nga bulan Hunyo, sa 24 °C, ug ang kinabugnawan Enero, sa 6 °C.[5] Ang kasarangang pag-ulan 702 milimetro matag tuig. Ang kinabasaan nga bulan Nobiyembre, sa 109 milimetro nga ulan, ug ang kinaugahan Hulyo, sa 22 milimetro.[6]\\n',\n",
       " 'Wadi ang Aaqbet el Franji sa Libano.[1] Nahimutang ni sa lalawigan sa Mohafazat Baalbek-Hermel, sa sentro nga bahin sa nasod, 60 km sa amihanan-sidlakan sa Beirut ang ulohan sa nasod.\\n',\n",
       " 'Ang klima mediteranyo.[2] Ang kasarangang giiniton 19 °C. Ang kinainitan nga bulan Agosto, sa 33 °C, ug ang kinabugnawan Enero, sa 6 °C.[3] Ang kasarangang pag-ulan 599 milimetro matag tuig. Ang kinabasaan nga bulan Enero, sa 146 milimetro nga ulan, ug ang kinaugahan Agosto, sa 1 milimetro.[4]\\n',\n",
       " 'Si Isko walay pupamilok nga nagtan-aw sa unahan, natugaw. “Naunsa ka gud diha Isko nga layo man kaayo ang imong panan-aw?” ni Inse Takya...\\n']"
      ]
     },
     "metadata": {},
     "execution_count": 67
    }
   ],
   "source": [
    "lines_oscar[:10]"
   ]
  },
  {
   "cell_type": "code",
   "execution_count": 42,
   "metadata": {},
   "outputs": [],
   "source": [
    "from tokenizers import normalizers, TextInputSequence, Tokenizer\n",
    "from tokenizers.normalizers import NFD, NFKC, StripAccents, Lowercase, Sequence\n",
    "from tokenizers.models import BPE\n",
    "from tokenizers.pre_tokenizers import ByteLevel\n",
    "from tokenizers.decoders import ByteLevel as ByteLevelDecoder"
   ]
  },
  {
   "source": [
    "### Test normalization"
   ],
   "cell_type": "markdown",
   "metadata": {}
  },
  {
   "cell_type": "code",
   "execution_count": 29,
   "metadata": {
    "tags": []
   },
   "outputs": [
    {
     "output_type": "stream",
     "name": "stdout",
     "text": [
      "matamwa lg ko mayung gabe sa tanan....balikbayan derby na megs, 5cock daw 3 & 4 na bla......d lg ko kasigurado\n\nmaayong kaagahon liwat diri sa payag iccc...nakaluy-an sa guihapon ang aton entry nga maka puntos sa ikaduha nga sulatada....goodluck sa madason pa guid nga mga sulatadas.\n\ntani ari si pre idol toto jericp sr, para siya ang mangkoton ta. hehehe. bal an ya na kung sin o ang champion. hehehe\n\nkapital sa munisipyo ang amol (pinulongang persiyano: امل) sa iran.[1] nahimutang ni sa lalawigan sa ostan-e mazandaran, sa amihanang bahin sa nasod, 120 km sa amihanan-sidlakan sa tehran ang ulohan sa nasod. 96 metros ibabaw sa dagat kahaboga ang nahimutangan sa amol[1], ug adunay 199,382 ka molupyo.[1]\n\n↑ kalkulado gikan sa pakigbingkil sa tanan nga gitas-on data (dem 3\") gikan sa viewfinder panoramas, sa sulod sa 10 ka kilometro radius.[2] ang bug-os nga algoritmo anaa dinhi.\n\n"
     ]
    }
   ],
   "source": [
    "normalizer = normalizers.Sequence([NFD(), StripAccents(), Lowercase()])\n",
    "for line in lines_oscar[:5]:\n",
    "    print(normalizer.normalize_str(line.decode('utf-8')))"
   ]
  },
  {
   "source": [
    "### Create a pipeline"
   ],
   "cell_type": "markdown",
   "metadata": {}
  },
  {
   "cell_type": "code",
   "execution_count": 73,
   "metadata": {},
   "outputs": [],
   "source": [
    "tokenize = Tokenizer(BPE())\n",
    "tokenize.normalizer = Sequence([\n",
    "    NFD(),\n",
    "    StripAccents(),\n",
    "    Lowercase()\n",
    "])\n",
    "tokenize.pre_tokenizer = ByteLevel()\n",
    "tokenize.decoder = ByteLevelDecoder()"
   ]
  },
  {
   "cell_type": "code",
   "execution_count": 74,
   "metadata": {},
   "outputs": [],
   "source": [
    "from tokenizers.trainers import BpeTrainer\n",
    "trainer = BpeTrainer(vocab_size=25000, show_progress=True, initial_alphabet=ByteLevel.alphabet())\n",
    "tokenize.train([\"../shuff-dedup/ceb/ceb_dedup.txt.gz\"], trainer)"
   ]
  },
  {
   "source": [
    "Take it for a spin, use it on the first three lines"
   ],
   "cell_type": "markdown",
   "metadata": {}
  },
  {
   "cell_type": "code",
   "execution_count": 76,
   "metadata": {},
   "outputs": [
    {
     "output_type": "execute_result",
     "data": {
      "text/plain": [
       "[1172, 13263]"
      ]
     },
     "metadata": {},
     "execution_count": 76
    }
   ],
   "source": [
    "tokenize.encode('wassap').ids"
   ]
  },
  {
   "cell_type": "code",
   "execution_count": 82,
   "metadata": {},
   "outputs": [
    {
     "output_type": "stream",
     "name": "stdout",
     "text": [
      "token ids [11295, 319, 335, 70, 604, 555, 352, 419, 1313, 259, 631, 2391, 1772, 967, 11668, 291, 10979, 82, 11, 500, 8079, 2172, 410, 2299, 433, 291, 2936, 17611, 67, 335, 70, 604, 955, 3395, 545, 198]\noriginal line: matamwa lg ko mayung gabe sa tanan....balikbayan derby na megs, 5cock daw 3 & 4 na bla......d lg ko kasigurado\n\ndecoded:  matamwa lg ko mayung gabe sa tanan....balikbayan derby na megs, 5cock daw 3 & 4 na bla......d lg ko kasigurado\n\ntoken ids [1524, 2403, 22803, 6399, 3075, 259, 10312, 14266, 1130, 13544, 394, 88, 12, 256, 259, 16282, 1471, 272, 2743, 8416, 270, 458, 10354, 259, 3638, 270, 7168, 279, 306, 2391, 21522, 11592, 259, 282, 20652, 302, 10735, 270, 285, 7168, 279, 395, 13, 198]\noriginal line: Maayong kaagahon liwat diri sa payag ICCC...nakaluy-an sa guihapon ang aton entry nga maka puntos sa ikaduha nga sulatada....goodluck sa madason pa guid nga mga sulatadas.\n\ndecoded:  maayong kaagahon liwat diri sa payag iccc...nakaluy-an sa guihapon ang aton entry nga maka puntos sa ikaduha nga sulatada....goodluck sa madason pa guid nga mga sulatadas.\n\ntoken ids [15173, 5117, 334, 1771, 22037, 7271, 14036, 79, 6586, 11, 1263, 506, 272, 1307, 353, 534, 356, 13, 10129, 13, 2435, 554, 1860, 291, 1091, 1435, 320, 272, 11293, 13, 10129, 198]\noriginal line: tani ari si pre idol toto jericp SR, para siya ang mangkoton ta. hehehe. bal an ya na kung sin o ang champion. hehehe\n\ndecoded:  tani ari si pre idol toto jericp sr, para siya ang mangkoton ta. hehehe. bal an ya na kung sin o ang champion. hehehe\n\n"
     ]
    }
   ],
   "source": [
    "for line in lines_oscar[:3]:\n",
    "    encoded = tokenize.encode(line)\n",
    "    print('token ids', encoded.ids)\n",
    "    print('original line:', line)\n",
    "    print('decoded:', tokenize.decode(encoded.ids))\n"
   ]
  }
 ]
}