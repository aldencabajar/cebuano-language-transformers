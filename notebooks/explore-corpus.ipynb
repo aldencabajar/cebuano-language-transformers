{
 "metadata": {
  "language_info": {
   "codemirror_mode": {
    "name": "ipython",
    "version": 3
   },
   "file_extension": ".py",
   "mimetype": "text/x-python",
   "name": "python",
   "nbconvert_exporter": "python",
   "pygments_lexer": "ipython3",
   "version": "3.8.5-final"
  },
  "orig_nbformat": 2,
  "kernelspec": {
   "name": "python3",
   "display_name": "Python 3",
   "language": "python"
  }
 },
 "nbformat": 4,
 "nbformat_minor": 2,
 "cells": [
  {
   "source": [
    "# Publicly-available Cebuano Corpus (An Exploration)"
   ],
   "cell_type": "markdown",
   "metadata": {}
  },
  {
   "cell_type": "code",
   "execution_count": 166,
   "metadata": {},
   "outputs": [],
   "source": [
    "import json\n",
    "import os\n",
    "import sys\n",
    "import pandas as pd\n",
    "import matplotlib.pyplot as plt \n",
    "import matplotlib\n",
    "import numpy as np\n",
    "import re\n",
    "from tokenizers import normalizers, TextInputSequence, Tokenizer\n",
    "from tokenizers.normalizers import NFD, NFKC, StripAccents, Lowercase, Sequence\n",
    "from tokenizers.models import BPE\n",
    "from tokenizers.pre_tokenizers import ByteLevel\n",
    "from tokenizers.decoders import ByteLevel as ByteLevelDecoder\n",
    "from tokenizers.trainers import BpeTrainer"
   ]
  },
  {
   "source": [
    "## Wikipedia Corpus"
   ],
   "cell_type": "markdown",
   "metadata": {}
  },
  {
   "cell_type": "code",
   "execution_count": 41,
   "metadata": {},
   "outputs": [],
   "source": [
    "text = []\n",
    "for line in open('../text/AA/wiki_00', 'r'):\n",
    "    text.append(json.loads(line))   "
   ]
  },
  {
   "source": [
    "print first few lines"
   ],
   "cell_type": "markdown",
   "metadata": {}
  },
  {
   "cell_type": "code",
   "execution_count": 52,
   "metadata": {},
   "outputs": [
    {
     "output_type": "execute_result",
     "data": {
      "text/plain": [
       "[{'id': '952',\n",
       "  'url': 'https://ceb.wikipedia.org/wiki?curid=952',\n",
       "  'title': 'Talaan sa mga lalawigan ug mga lungsod diin gitabi ang Binisayang Sinugboanon',\n",
       "  'text': 'Talaan sa mga lalawigan ug mga lungsod diin gitabi ang Binisayang Sinugboanon\\n\\nKining maong panid talaan sa mga lalawigan ug mga lungsod diin gitabi ang Binisayang Sinugboanon.\\n\\nMga dakbayan: \\n\\nMga lungsod: \\n\\n\\nMga lungsod: \\n\\nMga dakbayan: \\n\\nMga lungsod: \\n\\nMga dakbayan: \\n\\nMga lungsod: \\n\\nMga lungsod: \\n\\n\\nMga lungsod: \\n\\nMga dakbayan: \\n\\nMga lungsod: \\n\\nMga dakbayan: \\n\\nMga Lungsod\\n\\nMga lungsod\\n\\nMga dakbayan: \\n\\nMga lungsod: \\n\\nMga dakbayan: \\n\\nMga lungsod: \\n\\nMga dakbayan:\\n\\nMga lungsod: \\n\\n\\nMga dakbayan: \\n\\n\\nMga lungsod: \\n\\nMga dakbayan: \\n\\nMga lungsod: \\n\\nMga dakbayan: \\n\\nMga lungsod: \\n\\nMga dakbayan: \\n\\n\\nMga lungsod: \\n\\n\\nMga lungsod: \\n\\nMga dakbayan: \\n\\nMga lungsod: \\n\\nMga dakbayan: \\n\\nMga lungsod: \\n\\nMga dakbayan: \\n\\nMga lungsod: \\n\\nMga dakbayan: \\n\\nMga lungsod: \\n\\nMga lungsod: \\n'},\n",
       " {'id': '953',\n",
       "  'url': 'https://ceb.wikipedia.org/wiki?curid=953',\n",
       "  'title': 'Talaan sa mga lungsod ug dakbayang Sinugboanon ang pinulongan',\n",
       "  'text': 'Talaan sa mga lungsod ug dakbayang Sinugboanon ang pinulongan\\n\\nKining maong panid gitagana alang sa lista sa mga lungsod diin adunay mga tawong nagtabi sa Sinugboanon. Palihog ipuno ang inyong lungsod kon kini usa ka lungsod kun asa Sinugboanon ang pinulongan.\\n\\nPalihog kadtong nanagpuyo ning maong lugar, iklik ang link ug sulati bisan og gamay lang nga deskripsiyon ang inyong lugar. \\n\\n\\n\\n\\n\\n\\n\\n\\n\\n\\n\\n\\n\\n\\n\\n\\n\\n\\n\\n\\n\\nMga Lungsod \\n\\n\\n\\n\\n\\n\\n\\n\\n\\n\\n\\n[[Kategoriya:Mga lungsod ug dakbayan sa Pilipinas| ]]\\n[[Category:Sinugboanon]]\\n[[Category:Mga talaan|Lungsod ug dakbayang Sinugboanon ang pinulongan]]'}]"
      ]
     },
     "metadata": {},
     "execution_count": 52
    }
   ],
   "source": [
    "text[:2]"
   ]
  },
  {
   "cell_type": "code",
   "execution_count": 127,
   "metadata": {},
   "outputs": [
    {
     "output_type": "execute_result",
     "data": {
      "text/plain": [
       "'Kining maong panid talaan sa mga lalawigan ug mga lungsod diin gitabi ang Binisayang Sinugboanon.\\n\\nMga dakbayan: \\n\\nMga lungsod: \\n\\n\\nMga lungsod: \\n\\nMga dakbayan: \\n\\nMga lungsod: \\n\\nMga dakbayan: \\n\\nMga lungsod: \\n\\nMga lungsod: \\n\\n\\nMga lungsod: \\n\\nMga dakbayan: \\n\\nMga lungsod: \\n\\nMga dakbayan: \\n\\nMga Lungsod\\n\\nMga lungsod\\n\\nMga dakbayan: \\n\\nMga lungsod: \\n\\nMga dakbayan: \\n\\nMga lungsod: \\n\\nMga dakbayan:\\n\\nMga lungsod: \\n\\n\\nMga dakbayan: \\n\\n\\nMga lungsod: \\n\\nMga dakbayan: \\n\\nMga lungsod: \\n\\nMga dakbayan: \\n\\nMga lungsod: \\n\\nMga dakbayan: \\n\\n\\nMga lungsod: \\n\\n\\nMga lungsod: \\n\\nMga dakbayan: \\n\\nMga lungsod: \\n\\nMga dakbayan: \\n\\nMga lungsod: \\n\\nMga dakbayan: \\n\\nMga lungsod: \\n\\nMga dakbayan: \\n\\nMga lungsod: \\n\\nMga lungsod: \\n'"
      ]
     },
     "metadata": {},
     "execution_count": 127
    }
   ],
   "source": [
    "re.sub(r'^(.*)\\n\\n*', '', text[0]['text'])"
   ]
  },
  {
   "source": [
    "df = pd.DataFrame(text)\n",
    "df['length'] = df['text'].apply(len)"
   ],
   "cell_type": "code",
   "metadata": {},
   "execution_count": 43,
   "outputs": []
  },
  {
   "cell_type": "code",
   "execution_count": 44,
   "metadata": {},
   "outputs": [
    {
     "output_type": "stream",
     "name": "stdout",
     "text": [
      "Total current article count is 43299\nTotal character length is 9561771\n"
     ]
    }
   ],
   "source": [
    "print('Total current article count is', df.shape[0])\n",
    "print('Total character length is', df.length.sum())"
   ]
  },
  {
   "cell_type": "code",
   "execution_count": 45,
   "metadata": {},
   "outputs": [
    {
     "output_type": "execute_result",
     "data": {
      "text/plain": [
       "count    43299.000000\n",
       "mean       220.831220\n",
       "std        642.739233\n",
       "min        101.000000\n",
       "25%        146.000000\n",
       "50%        156.000000\n",
       "75%        171.000000\n",
       "max      60068.000000\n",
       "Name: length, dtype: float64"
      ]
     },
     "metadata": {},
     "execution_count": 45
    }
   ],
   "source": [
    "df['length'].describe()"
   ]
  },
  {
   "source": [
    "### Training a BPE tokenizer for wiki corpus "
   ],
   "cell_type": "markdown",
   "metadata": {}
  },
  {
   "source": [
    "We first write the json file into a txt file line by line."
   ],
   "cell_type": "markdown",
   "metadata": {}
  },
  {
   "cell_type": "code",
   "execution_count": 165,
   "metadata": {},
   "outputs": [],
   "source": [
    "with open('../wiki-corpus.txt', 'w') as f:\n",
    "    for line in text:\n",
    "        _txt = re.sub(r'^(.*)\\n\\n*', '', line['text'])\n",
    "        # remove redundant new lines\n",
    "        _txt = re.sub(r'\\n(?!$)', '', _txt)\n",
    "        _txt = re.sub(r'\\n\\n', '\\n', _txt)\n",
    "        f.write(_txt)\n",
    "    f.close()"
   ]
  },
  {
   "source": [
    "tokenize_wiki = Tokenizer(BPE())\n",
    "tokenize_wiki.normalizer = Sequence([\n",
    "    NFD(),\n",
    "    StripAccents(),\n",
    "    Lowercase()\n",
    "])\n",
    "tokenize_wiki.pre_tokenizer = ByteLevel()\n",
    "tokenize_wiki.decoder = ByteLevelDecoder()"
   ],
   "cell_type": "code",
   "metadata": {},
   "execution_count": 167,
   "outputs": []
  },
  {
   "cell_type": "code",
   "execution_count": 168,
   "metadata": {},
   "outputs": [],
   "source": [
    "trainer = BpeTrainer(vocab_size=25000, show_progress=True, initial_alphabet=ByteLevel.alphabet())\n",
    "tokenize_wiki.train([\"../wiki-corpus.txt\"], trainer)"
   ]
  },
  {
   "source": [
    "re-read the txt file"
   ],
   "cell_type": "markdown",
   "metadata": {}
  },
  {
   "cell_type": "code",
   "execution_count": 171,
   "metadata": {},
   "outputs": [],
   "source": [
    "lines_wiki = []\n",
    "with open('../wiki-corpus.txt', 'r') as f:\n",
    "    for line in f:\n",
    "        lines_wiki.append(line)\n"
   ]
  },
  {
   "source": [
    "Let us check the tokenized inputs"
   ],
   "cell_type": "markdown",
   "metadata": {}
  },
  {
   "cell_type": "code",
   "execution_count": 174,
   "metadata": {},
   "outputs": [
    {
     "output_type": "stream",
     "name": "stdout",
     "text": [
      "token ids [1300, 752, 3620, 9944, 259, 285, 736, 288, 285, 549, 1191, 17548, 272, 11320, 11173, 13, 2490, 1006, 25, 285, 549, 25, 285, 549, 25, 285, 1006, 25, 285, 549, 25, 285, 1006, 25, 285, 549, 25, 285, 549, 25, 285, 549, 25, 285, 1006, 25, 285, 549, 25, 285, 1006, 25, 285, 549, 2490, 549, 2490, 1006, 25, 285, 549, 25, 285, 1006, 25, 285, 549, 25, 285, 1006, 25, 2490, 549, 25, 285, 1006, 25, 285, 549, 25, 285, 1006, 25, 285, 549, 25, 285, 1006, 25, 285, 549, 25, 285, 1006, 25, 285, 549, 25, 285, 549, 25, 285, 1006, 25, 285, 549, 25, 285, 1006, 25, 285, 549, 25, 285, 1006, 25, 285, 549, 25, 285, 1006, 25, 285, 549, 25, 285, 549, 25, 22793]\noriginal line: Kining maong panid talaan sa mga lalawigan ug mga lungsod diin gitabi ang Binisayang Sinugboanon.Mga dakbayan: Mga lungsod: Mga lungsod: Mga dakbayan: Mga lungsod: Mga dakbayan: Mga lungsod: Mga lungsod: Mga lungsod: Mga dakbayan: Mga lungsod: Mga dakbayan: Mga LungsodMga lungsodMga dakbayan: Mga lungsod: Mga dakbayan: Mga lungsod: Mga dakbayan:Mga lungsod: Mga dakbayan: Mga lungsod: Mga dakbayan: Mga lungsod: Mga dakbayan: Mga lungsod: Mga dakbayan: Mga lungsod: Mga lungsod: Mga dakbayan: Mga lungsod: Mga dakbayan: Mga lungsod: Mga dakbayan: Mga lungsod: Mga dakbayan: Mga lungsod: Mga lungsod: \n\ndecoded:  kining maong panid talaan sa mga lalawigan ug mga lungsod diin gitabi ang binisayang sinugboanon.mga dakbayan: mga lungsod: mga lungsod: mga dakbayan: mga lungsod: mga dakbayan: mga lungsod: mga lungsod: mga lungsod: mga dakbayan: mga lungsod: mga dakbayan: mga lungsodmga lungsodmga dakbayan: mga lungsod: mga dakbayan: mga lungsod: mga dakbayan:mga lungsod: mga dakbayan: mga lungsod: mga dakbayan: mga lungsod: mga dakbayan: mga lungsod: mga dakbayan: mga lungsod: mga lungsod: mga dakbayan: mga lungsod: mga dakbayan: mga lungsod: mga dakbayan: mga lungsod: mga dakbayan: mga lungsod: mga lungsod: \n\ntoken ids [1300, 752, 3620, 9163, 493, 259, 2951, 259, 285, 549, 1191, 460, 285, 4644, 7846, 439, 259, 11173, 13, 8509, 287, 5703, 272, 1019, 549, 443, 396, 336, 274, 549, 1391, 1636, 11173, 272, 1905, 13, 21351, 4558, 2532, 2378, 1787, 1122, 752, 1773, 11, 287, 5711, 272, 7693, 288, 7168, 365, 622, 484, 941, 600, 270, 18524, 11251, 2832, 272, 1019, 1773, 13, 285, 549, 3759, 7889, 25, 2490, 549, 288, 1006, 259, 1775, 91, 5803, 675, 58, 671, 3084, 88, 25, 3489, 350, 11080, 60, 675, 58, 671, 3084, 88, 25, 2490, 9944, 91, 958, 288, 876, 281, 449, 11173, 272, 1905, 7247, 9581, 752, 3620, 9163, 493, 259, 2951, 259, 285, 445, 270, 2135, 4518, 259, 736, 259, 2416, 13, 198]\noriginal line: Kining maong panid gitagana alang sa lista sa mga lungsod diin adunay mga tawong nagtabi sa Sinugboanon. Palihog ipuno ang inyong lungsod kon kini usa ka lungsod kun asa Sinugboanon ang pinulongan.Palihog kadtong nanagpuyo ning maong lugar, iklik ang link ug sulati bisan og gamay lang nga deskripsiyon ang inyong lugar. Mga Lungsod [[Kategoriya:Mga lungsod ug dakbayan sa Pilipinas| ]][[Category:Sinugboanon]][[Category:Mga talaan|Lungsod ug dakbayang Sinugboanon ang pinulongan]]Kining maong panid gitagana alang sa lista sa mga tawo nga nahimong gobernador sa lalawigan sa Sugbo.\n\ndecoded:  kining maong panid gitagana alang sa lista sa mga lungsod diin adunay mga tawong nagtabi sa sinugboanon. palihog ipuno ang inyong lungsod kon kini usa ka lungsod kun asa sinugboanon ang pinulongan.palihog kadtong nanagpuyo ning maong lugar, iklik ang link ug sulati bisan og gamay lang nga deskripsiyon ang inyong lugar. mga lungsod [[kategoriya:mga lungsod ug dakbayan sa pilipinas| ]][[category:sinugboanon]][[category:mga talaan|lungsod ug dakbayang sinugboanon ang pinulongan]]kining maong panid gitagana alang sa lista sa mga tawo nga nahimong gobernador sa lalawigan sa sugbo.\n\ntoken ids [1300, 752, 3620, 9163, 493, 259, 2951, 259, 285, 445, 270, 2135, 2091, 259, 736, 259, 2416, 13, 198]\noriginal line: Kining maong panid gitagana alang sa lista sa mga tawo nga nahimong mayor sa lalawigan sa Sugbo.\n\ndecoded:  kining maong panid gitagana alang sa lista sa mga tawo nga nahimong mayor sa lalawigan sa sugbo.\n\n"
     ]
    }
   ],
   "source": [
    "for line in lines_wiki[:3]:\n",
    "    encoded = tokenize.encode(line)\n",
    "    print('token ids', encoded.ids)\n",
    "    print('original line:', line)\n",
    "    print('decoded:', tokenize.decode(encoded.ids))"
   ]
  },
  {
   "source": [
    "### Token Distribution"
   ],
   "cell_type": "markdown",
   "metadata": {}
  },
  {
   "cell_type": "code",
   "execution_count": 175,
   "metadata": {},
   "outputs": [],
   "source": [
    "token_num = []\n",
    "for line in lines_wiki:\n",
    "    encoded = tokenize.encode(line)\n",
    "    token_num.append(len(encoded.ids))"
   ]
  },
  {
   "cell_type": "code",
   "execution_count": 177,
   "metadata": {},
   "outputs": [
    {
     "output_type": "stream",
     "name": "stdout",
     "text": [
      "There are 2130156 tokens in cebuano wiki data\n"
     ]
    }
   ],
   "source": [
    "print('There are', np.sum(token_num), 'tokens in cebuano wiki data')"
   ]
  },
  {
   "cell_type": "code",
   "execution_count": 176,
   "metadata": {},
   "outputs": [
    {
     "output_type": "execute_result",
     "data": {
      "text/plain": [
       "              stats\n",
       "count  43148.000000\n",
       "mean      49.368592\n",
       "std      158.563136\n",
       "min       11.000000\n",
       "25%       31.000000\n",
       "50%       34.000000\n",
       "75%       38.000000\n",
       "max    16336.000000"
      ],
      "text/html": "<div>\n<style scoped>\n    .dataframe tbody tr th:only-of-type {\n        vertical-align: middle;\n    }\n\n    .dataframe tbody tr th {\n        vertical-align: top;\n    }\n\n    .dataframe thead th {\n        text-align: right;\n    }\n</style>\n<table border=\"1\" class=\"dataframe\">\n  <thead>\n    <tr style=\"text-align: right;\">\n      <th></th>\n      <th>stats</th>\n    </tr>\n  </thead>\n  <tbody>\n    <tr>\n      <th>count</th>\n      <td>43148.000000</td>\n    </tr>\n    <tr>\n      <th>mean</th>\n      <td>49.368592</td>\n    </tr>\n    <tr>\n      <th>std</th>\n      <td>158.563136</td>\n    </tr>\n    <tr>\n      <th>min</th>\n      <td>11.000000</td>\n    </tr>\n    <tr>\n      <th>25%</th>\n      <td>31.000000</td>\n    </tr>\n    <tr>\n      <th>50%</th>\n      <td>34.000000</td>\n    </tr>\n    <tr>\n      <th>75%</th>\n      <td>38.000000</td>\n    </tr>\n    <tr>\n      <th>max</th>\n      <td>16336.000000</td>\n    </tr>\n  </tbody>\n</table>\n</div>"
     },
     "metadata": {},
     "execution_count": 176
    }
   ],
   "source": [
    "stats = pd.Series(token_num, name = 'stats').describe().to_frame()\n",
    "stats"
   ]
  },
  {
   "source": [
    "## OSCAR Cebuano corpus"
   ],
   "cell_type": "markdown",
   "metadata": {}
  },
  {
   "cell_type": "code",
   "execution_count": 5,
   "metadata": {},
   "outputs": [],
   "source": [
    "lines_oscar = []\n",
    "with open('../shuff-dedup/ceb/ceb_dedup.txt.gz', 'rb') as f:\n",
    "    for line in f:\n",
    "        lines_oscar.append(line.decode('utf-8'))\n"
   ]
  },
  {
   "cell_type": "code",
   "execution_count": 6,
   "metadata": {},
   "outputs": [
    {
     "output_type": "execute_result",
     "data": {
      "text/plain": [
       "'The OSCAR corpus contains about 75220 lines of text.'"
      ]
     },
     "metadata": {},
     "execution_count": 6
    }
   ],
   "source": [
    "f'The OSCAR corpus contains about {len(lines_oscar)} lines of text.' "
   ]
  },
  {
   "cell_type": "code",
   "execution_count": 7,
   "metadata": {},
   "outputs": [
    {
     "output_type": "execute_result",
     "data": {
      "text/plain": [
       "['matamwa lg ko mayung gabe sa tanan....balikbayan derby na megs, 5cock daw 3 & 4 na bla......d lg ko kasigurado\\n',\n",
       " 'Maayong kaagahon liwat diri sa payag ICCC...nakaluy-an sa guihapon ang aton entry nga maka puntos sa ikaduha nga sulatada....goodluck sa madason pa guid nga mga sulatadas.\\n']"
      ]
     },
     "metadata": {},
     "execution_count": 7
    }
   ],
   "source": [
    "lines_oscar[:2]"
   ]
  },
  {
   "source": [
    "### Create a pipeline"
   ],
   "cell_type": "markdown",
   "metadata": {}
  },
  {
   "cell_type": "code",
   "execution_count": 9,
   "metadata": {},
   "outputs": [],
   "source": [
    "tokenize = Tokenizer(BPE())\n",
    "tokenize.normalizer = Sequence([\n",
    "    NFD(),\n",
    "    StripAccents(),\n",
    "    Lowercase()\n",
    "])\n",
    "tokenize.pre_tokenizer = ByteLevel()\n",
    "tokenize.decoder = ByteLevelDecoder()"
   ]
  },
  {
   "cell_type": "code",
   "execution_count": 10,
   "metadata": {},
   "outputs": [],
   "source": [
    "trainer = BpeTrainer(vocab_size=25000, show_progress=True, initial_alphabet=ByteLevel.alphabet())\n",
    "tokenize.train([\"../shuff-dedup/ceb/ceb_dedup.txt.gz\"], trainer)"
   ]
  },
  {
   "source": [
    "Take it for a spin, use it on the first three lines"
   ],
   "cell_type": "markdown",
   "metadata": {}
  },
  {
   "cell_type": "code",
   "execution_count": 11,
   "metadata": {},
   "outputs": [
    {
     "output_type": "stream",
     "name": "stdout",
     "text": [
      "token ids [11295, 319, 335, 70, 604, 555, 352, 419, 1313, 259, 631, 2391, 1772, 967, 11668, 291, 10979, 82, 11, 500, 8079, 2172, 410, 2299, 433, 291, 2936, 17611, 67, 335, 70, 604, 955, 3395, 545, 198]\noriginal line: matamwa lg ko mayung gabe sa tanan....balikbayan derby na megs, 5cock daw 3 & 4 na bla......d lg ko kasigurado\n\ndecoded:  matamwa lg ko mayung gabe sa tanan....balikbayan derby na megs, 5cock daw 3 & 4 na bla......d lg ko kasigurado\n\ntoken ids [1524, 2403, 22803, 6399, 3075, 259, 10312, 14266, 1130, 13544, 394, 88, 12, 256, 259, 16282, 1471, 272, 2743, 8416, 270, 458, 10354, 259, 3638, 270, 7168, 279, 306, 2391, 21522, 11592, 259, 282, 20652, 302, 10735, 270, 285, 7168, 279, 395, 13, 198]\noriginal line: Maayong kaagahon liwat diri sa payag ICCC...nakaluy-an sa guihapon ang aton entry nga maka puntos sa ikaduha nga sulatada....goodluck sa madason pa guid nga mga sulatadas.\n\ndecoded:  maayong kaagahon liwat diri sa payag iccc...nakaluy-an sa guihapon ang aton entry nga maka puntos sa ikaduha nga sulatada....goodluck sa madason pa guid nga mga sulatadas.\n\ntoken ids [15173, 5117, 334, 1771, 22037, 7271, 14036, 79, 6586, 11, 1263, 506, 272, 1307, 353, 534, 356, 13, 10129, 13, 2435, 554, 1860, 291, 1091, 1435, 320, 272, 11293, 13, 10129, 198]\noriginal line: tani ari si pre idol toto jericp SR, para siya ang mangkoton ta. hehehe. bal an ya na kung sin o ang champion. hehehe\n\ndecoded:  tani ari si pre idol toto jericp sr, para siya ang mangkoton ta. hehehe. bal an ya na kung sin o ang champion. hehehe\n\n"
     ]
    }
   ],
   "source": [
    "for line in lines_oscar[:3]:\n",
    "    encoded = tokenize.encode(line)\n",
    "    print('token ids', encoded.ids)\n",
    "    print('original line:', line)\n",
    "    print('decoded:', tokenize.decode(encoded.ids))\n"
   ]
  },
  {
   "cell_type": "code",
   "execution_count": 12,
   "metadata": {},
   "outputs": [],
   "source": [
    "token_num = []\n",
    "\n",
    "for line in lines_oscar:\n",
    "    encoded = tokenize.encode(line)  \n",
    "    token_num.append(len(encoded.ids))\n"
   ]
  },
  {
   "cell_type": "code",
   "execution_count": 16,
   "metadata": {},
   "outputs": [
    {
     "output_type": "stream",
     "name": "stdout",
     "text": [
      "total number of tokens: 5496777\n"
     ]
    }
   ],
   "source": [
    "print('total number of tokens:', np.sum(token_num))"
   ]
  },
  {
   "cell_type": "code",
   "execution_count": 40,
   "metadata": {},
   "outputs": [
    {
     "output_type": "execute_result",
     "data": {
      "text/plain": [
       "              stats\n",
       "count  75220.000000\n",
       "mean      73.076004\n",
       "std      314.768952\n",
       "min        2.000000\n",
       "25%       38.000000\n",
       "50%       63.000000\n",
       "75%       84.000000\n",
       "max    83901.000000"
      ],
      "text/html": "<div>\n<style scoped>\n    .dataframe tbody tr th:only-of-type {\n        vertical-align: middle;\n    }\n\n    .dataframe tbody tr th {\n        vertical-align: top;\n    }\n\n    .dataframe thead th {\n        text-align: right;\n    }\n</style>\n<table border=\"1\" class=\"dataframe\">\n  <thead>\n    <tr style=\"text-align: right;\">\n      <th></th>\n      <th>stats</th>\n    </tr>\n  </thead>\n  <tbody>\n    <tr>\n      <th>count</th>\n      <td>75220.000000</td>\n    </tr>\n    <tr>\n      <th>mean</th>\n      <td>73.076004</td>\n    </tr>\n    <tr>\n      <th>std</th>\n      <td>314.768952</td>\n    </tr>\n    <tr>\n      <th>min</th>\n      <td>2.000000</td>\n    </tr>\n    <tr>\n      <th>25%</th>\n      <td>38.000000</td>\n    </tr>\n    <tr>\n      <th>50%</th>\n      <td>63.000000</td>\n    </tr>\n    <tr>\n      <th>75%</th>\n      <td>84.000000</td>\n    </tr>\n    <tr>\n      <th>max</th>\n      <td>83901.000000</td>\n    </tr>\n  </tbody>\n</table>\n</div>"
     },
     "metadata": {},
     "execution_count": 40
    }
   ],
   "source": [
    "stats = pd.Series(token_num, name = 'stats').describe().to_frame()\n",
    "stats\n",
    "\n"
   ]
  }
 ]
}